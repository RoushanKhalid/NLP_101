{
 "cells": [
  {
   "cell_type": "code",
   "execution_count": 8,
   "id": "67db0143",
   "metadata": {},
   "outputs": [
    {
     "name": "stderr",
     "output_type": "stream",
     "text": [
      "\n",
      "[notice] A new release of pip is available: 24.0 -> 25.1.1\n",
      "[notice] To update, run: C:\\Users\\HP\\AppData\\Local\\Microsoft\\WindowsApps\\PythonSoftwareFoundation.Python.3.11_qbz5n2kfra8p0\\python.exe -m pip install --upgrade pip\n"
     ]
    },
    {
     "name": "stdout",
     "output_type": "stream",
     "text": [
      "Requirement already satisfied: matplotlib in c:\\users\\hp\\appdata\\local\\packages\\pythonsoftwarefoundation.python.3.11_qbz5n2kfra8p0\\localcache\\local-packages\\python311\\site-packages (3.10.3)\n",
      "Collecting seaborn\n",
      "  Using cached seaborn-0.13.2-py3-none-any.whl.metadata (5.4 kB)\n",
      "Collecting scikit-learn\n",
      "  Using cached scikit_learn-1.7.0-cp311-cp311-win_amd64.whl.metadata (14 kB)\n",
      "Requirement already satisfied: pandas in c:\\users\\hp\\appdata\\local\\packages\\pythonsoftwarefoundation.python.3.11_qbz5n2kfra8p0\\localcache\\local-packages\\python311\\site-packages (2.3.1)\n",
      "Requirement already satisfied: numpy in c:\\users\\hp\\appdata\\local\\packages\\pythonsoftwarefoundation.python.3.11_qbz5n2kfra8p0\\localcache\\local-packages\\python311\\site-packages (2.3.1)\n",
      "Requirement already satisfied: contourpy>=1.0.1 in c:\\users\\hp\\appdata\\local\\packages\\pythonsoftwarefoundation.python.3.11_qbz5n2kfra8p0\\localcache\\local-packages\\python311\\site-packages (from matplotlib) (1.3.2)\n",
      "Requirement already satisfied: cycler>=0.10 in c:\\users\\hp\\appdata\\local\\packages\\pythonsoftwarefoundation.python.3.11_qbz5n2kfra8p0\\localcache\\local-packages\\python311\\site-packages (from matplotlib) (0.12.1)\n",
      "Requirement already satisfied: fonttools>=4.22.0 in c:\\users\\hp\\appdata\\local\\packages\\pythonsoftwarefoundation.python.3.11_qbz5n2kfra8p0\\localcache\\local-packages\\python311\\site-packages (from matplotlib) (4.58.5)\n",
      "Requirement already satisfied: kiwisolver>=1.3.1 in c:\\users\\hp\\appdata\\local\\packages\\pythonsoftwarefoundation.python.3.11_qbz5n2kfra8p0\\localcache\\local-packages\\python311\\site-packages (from matplotlib) (1.4.8)\n",
      "Requirement already satisfied: packaging>=20.0 in c:\\users\\hp\\appdata\\local\\packages\\pythonsoftwarefoundation.python.3.11_qbz5n2kfra8p0\\localcache\\local-packages\\python311\\site-packages (from matplotlib) (25.0)\n",
      "Requirement already satisfied: pillow>=8 in c:\\users\\hp\\appdata\\local\\packages\\pythonsoftwarefoundation.python.3.11_qbz5n2kfra8p0\\localcache\\local-packages\\python311\\site-packages (from matplotlib) (11.3.0)\n",
      "Requirement already satisfied: pyparsing>=2.3.1 in c:\\users\\hp\\appdata\\local\\packages\\pythonsoftwarefoundation.python.3.11_qbz5n2kfra8p0\\localcache\\local-packages\\python311\\site-packages (from matplotlib) (3.2.3)\n",
      "Requirement already satisfied: python-dateutil>=2.7 in c:\\users\\hp\\appdata\\local\\packages\\pythonsoftwarefoundation.python.3.11_qbz5n2kfra8p0\\localcache\\local-packages\\python311\\site-packages (from matplotlib) (2.9.0.post0)\n",
      "Requirement already satisfied: scipy>=1.8.0 in c:\\users\\hp\\appdata\\local\\packages\\pythonsoftwarefoundation.python.3.11_qbz5n2kfra8p0\\localcache\\local-packages\\python311\\site-packages (from scikit-learn) (1.16.0)\n",
      "Requirement already satisfied: joblib>=1.2.0 in c:\\users\\hp\\appdata\\local\\packages\\pythonsoftwarefoundation.python.3.11_qbz5n2kfra8p0\\localcache\\local-packages\\python311\\site-packages (from scikit-learn) (1.5.1)\n",
      "Requirement already satisfied: threadpoolctl>=3.1.0 in c:\\users\\hp\\appdata\\local\\packages\\pythonsoftwarefoundation.python.3.11_qbz5n2kfra8p0\\localcache\\local-packages\\python311\\site-packages (from scikit-learn) (3.6.0)\n",
      "Requirement already satisfied: pytz>=2020.1 in c:\\users\\hp\\appdata\\local\\packages\\pythonsoftwarefoundation.python.3.11_qbz5n2kfra8p0\\localcache\\local-packages\\python311\\site-packages (from pandas) (2025.2)\n",
      "Requirement already satisfied: tzdata>=2022.7 in c:\\users\\hp\\appdata\\local\\packages\\pythonsoftwarefoundation.python.3.11_qbz5n2kfra8p0\\localcache\\local-packages\\python311\\site-packages (from pandas) (2025.2)\n",
      "Requirement already satisfied: six>=1.5 in c:\\users\\hp\\appdata\\local\\packages\\pythonsoftwarefoundation.python.3.11_qbz5n2kfra8p0\\localcache\\local-packages\\python311\\site-packages (from python-dateutil>=2.7->matplotlib) (1.17.0)\n",
      "Using cached seaborn-0.13.2-py3-none-any.whl (294 kB)\n",
      "Using cached scikit_learn-1.7.0-cp311-cp311-win_amd64.whl (10.7 MB)\n",
      "Installing collected packages: scikit-learn, seaborn\n",
      "Successfully installed scikit-learn-1.7.0 seaborn-0.13.2\n",
      "Note: you may need to restart the kernel to use updated packages.\n"
     ]
    }
   ],
   "source": [
    "%pip install matplotlib seaborn scikit-learn pandas numpy\n",
    "\n",
    "import numpy as np\n",
    "import pandas as pd\n",
    "import matplotlib.pyplot as plt\n",
    "import seaborn as sns\n",
    "from sklearn.model_selection import train_test_split\n",
    "from sklearn.feature_extraction.text import CountVectorizer, TfidfVectorizer\n",
    "from sklearn.preprocessing import OneHotEncoder"
   ]
  },
  {
   "cell_type": "markdown",
   "id": "860486ad",
   "metadata": {},
   "source": [
    "# One Hot Encoding"
   ]
  },
  {
   "cell_type": "code",
   "execution_count": 1,
   "id": "489d068b",
   "metadata": {},
   "outputs": [
    {
     "name": "stdout",
     "output_type": "stream",
     "text": [
      "Vocabulary: ['fun', 'i', 'is', 'love', 'nlp', 'python']\n",
      "Sentence: I love NLP\n",
      "One-hot: [0, 1, 0, 1, 1, 0]\n",
      "\n",
      "Sentence: NLP is fun\n",
      "One-hot: [1, 0, 1, 0, 1, 0]\n",
      "\n",
      "Sentence: I love Python\n",
      "One-hot: [0, 1, 0, 1, 0, 1]\n",
      "\n"
     ]
    }
   ],
   "source": [
    "# Sample sentences\n",
    "sentences = [\n",
    "    \"I love NLP\",\n",
    "    \"NLP is fun\",\n",
    "    \"I love Python\"\n",
    "]\n",
    "\n",
    "# Step 1: Lowercase and split words\n",
    "words = []\n",
    "for sentence in sentences:\n",
    "    words += sentence.lower().split()\n",
    "\n",
    "# Step 2: Get unique words (vocabulary)\n",
    "vocab = sorted(set(words))\n",
    "print(\"Vocabulary:\", vocab)\n",
    "\n",
    "# Step 3: One-hot encode each sentence\n",
    "for sentence in sentences:\n",
    "    tokens = sentence.lower().split()\n",
    "    vector = [1 if word in tokens else 0 for word in vocab]\n",
    "    print(f\"Sentence: {sentence}\")\n",
    "    print(f\"One-hot: {vector}\")\n",
    "    print()\n"
   ]
  },
  {
   "cell_type": "markdown",
   "id": "eba76d12",
   "metadata": {},
   "source": [
    "sklearn.preprocessing.OneHotEncoder"
   ]
  },
  {
   "cell_type": "code",
   "execution_count": 2,
   "id": "7a70cb6c",
   "metadata": {},
   "outputs": [
    {
     "name": "stdout",
     "output_type": "stream",
     "text": [
      "Vocabulary: [array(['fun', 'i', 'is', 'love', 'nlp', 'python'], dtype=object)]\n",
      "One-Hot Encoded Words:\n",
      "i          => [0. 1. 0. 0. 0. 0.]\n",
      "love       => [0. 0. 0. 1. 0. 0.]\n",
      "nlp        => [0. 0. 0. 0. 1. 0.]\n",
      "nlp        => [0. 0. 0. 0. 1. 0.]\n",
      "is         => [0. 0. 1. 0. 0. 0.]\n",
      "fun        => [1. 0. 0. 0. 0. 0.]\n",
      "i          => [0. 1. 0. 0. 0. 0.]\n",
      "love       => [0. 0. 0. 1. 0. 0.]\n",
      "python     => [0. 0. 0. 0. 0. 1.]\n"
     ]
    }
   ],
   "source": [
    "from sklearn.preprocessing import OneHotEncoder\n",
    "import numpy as np\n",
    "\n",
    "sentences = [\n",
    "    \"I love NLP\",\n",
    "    \"NLP is fun\",\n",
    "    \"I love Python\"\n",
    "]\n",
    "\n",
    "# Step 1: Split each sentence into words\n",
    "corpus = [sentence.lower().split() for sentence in sentences]\n",
    "\n",
    "# Step 2: Flatten to a 2D list of words\n",
    "flat_words = [[word] for sentence in corpus for word in sentence]\n",
    "\n",
    "# Step 3: Apply OneHotEncoder (use sparse_output=False for new sklearn)\n",
    "encoder = OneHotEncoder(sparse_output=False)\n",
    "onehot_encoded = encoder.fit_transform(flat_words)\n",
    "\n",
    "# Step 4: Print results\n",
    "print(\"Vocabulary:\", encoder.categories_)\n",
    "print(\"One-Hot Encoded Words:\")\n",
    "for word, vec in zip(flat_words, onehot_encoded):\n",
    "    print(f\"{word[0]:<10} => {vec}\")"
   ]
  },
  {
   "cell_type": "markdown",
   "id": "32af623a",
   "metadata": {},
   "source": [
    "One-Hot Encoding with pandas.get_dummies"
   ]
  },
  {
   "cell_type": "code",
   "execution_count": 3,
   "id": "a23a7f9c",
   "metadata": {},
   "outputs": [
    {
     "name": "stdout",
     "output_type": "stream",
     "text": [
      "     fun      i     is   love    nlp  python\n",
      "0  False   True  False  False  False   False\n",
      "1  False  False  False   True  False   False\n",
      "2  False  False  False  False   True   False\n",
      "3  False  False  False  False   True   False\n",
      "4  False  False   True  False  False   False\n",
      "5   True  False  False  False  False   False\n",
      "6  False   True  False  False  False   False\n",
      "7  False  False  False   True  False   False\n",
      "8  False  False  False  False  False    True\n"
     ]
    }
   ],
   "source": [
    "import pandas as pd\n",
    "\n",
    "# Step 1: Flatten all words\n",
    "words = [word for sentence in sentences for word in sentence.lower().split()]\n",
    "\n",
    "# Step 2: Create a DataFrame\n",
    "df = pd.DataFrame({'word': words})\n",
    "\n",
    "# Step 3: Apply get_dummies\n",
    "onehot_df = pd.get_dummies(df['word'])\n",
    "\n",
    "print(onehot_df)\n"
   ]
  },
  {
   "cell_type": "markdown",
   "id": "63f9878d",
   "metadata": {},
   "source": [
    "# Bag of Words (Bow)"
   ]
  }
 ],
 "metadata": {
  "kernelspec": {
   "display_name": "Python 3",
   "language": "python",
   "name": "python3"
  },
  "language_info": {
   "codemirror_mode": {
    "name": "ipython",
    "version": 3
   },
   "file_extension": ".py",
   "mimetype": "text/x-python",
   "name": "python",
   "nbconvert_exporter": "python",
   "pygments_lexer": "ipython3",
   "version": "3.11.9"
  }
 },
 "nbformat": 4,
 "nbformat_minor": 5
}
